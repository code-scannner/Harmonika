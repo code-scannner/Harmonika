{
 "cells": [
  {
   "cell_type": "code",
   "execution_count": null,
   "id": "db549117-8d32-4f1f-ae6a-1aa5b6cda35b",
   "metadata": {},
   "outputs": [],
   "source": [
    "import pandas as pd, numpy as np\n",
    "import ast"
   ]
  },
  {
   "cell_type": "code",
   "execution_count": null,
   "id": "b976bd6d-58cc-4941-8933-bcb4ac4821e8",
   "metadata": {},
   "outputs": [],
   "source": [
    "dataframe = pd.read_csv(\"../scraping/out.csv\")"
   ]
  },
  {
   "cell_type": "code",
   "execution_count": null,
   "id": "c257d379-f81e-4b38-88fc-7027f8fe107d",
   "metadata": {},
   "outputs": [],
   "source": [
    "dataframe.columns"
   ]
  },
  {
   "cell_type": "code",
   "execution_count": null,
   "id": "cef0ccb5-e920-47d2-9a8d-25564ceda490",
   "metadata": {},
   "outputs": [],
   "source": [
    "dataframe.shape"
   ]
  },
  {
   "cell_type": "code",
   "execution_count": null,
   "id": "fc6d5a13-fa04-41b2-b525-481a5ee85f90",
   "metadata": {},
   "outputs": [],
   "source": [
    "dataframe.tail()"
   ]
  },
  {
   "cell_type": "code",
   "execution_count": null,
   "id": "327de2b4-d69b-4b2c-b384-dc07885b744a",
   "metadata": {},
   "outputs": [],
   "source": [
    "dataframe.dropna(subset=['title','singers','download_link', 'year'], inplace= True)\n",
    "dataframe.reset_index(inplace=True)"
   ]
  },
  {
   "cell_type": "code",
   "execution_count": null,
   "id": "2e2bd2fb-79ed-4449-9892-9d585631c88f",
   "metadata": {},
   "outputs": [],
   "source": [
    "#checking for null values\n",
    "null_lyricist = dataframe.isna()['lyricist'].sum()\n",
    "null_directors = dataframe.isna()['directors'].sum()\n",
    "null_posters = dataframe.isna()['poster'].sum()\n",
    "print(null_directors, null_lyricist, null_posters)"
   ]
  },
  {
   "cell_type": "code",
   "execution_count": null,
   "id": "1189236d-4d70-4ed3-a45a-9a40e775a657",
   "metadata": {},
   "outputs": [],
   "source": [
    "def convert_to_words(words):\n",
    "    try:\n",
    "        if not words:\n",
    "            return []\n",
    "        list = ast.literal_eval(words)\n",
    "        return \" \" + \" \".join([one_word(s) for s in list])\n",
    "    except:\n",
    "        return \" \"\n",
    "def one_word(s):\n",
    "    return \"\".join(s.lower().split())"
   ]
  },
  {
   "cell_type": "code",
   "execution_count": null,
   "id": "66b8dd3a-9440-4c19-a34b-f00c0370f984",
   "metadata": {},
   "outputs": [],
   "source": [
    "new_df = pd.DataFrame()\n",
    "new_df['tags'] = dataframe['title']\n",
    "new_df['tags'] += dataframe['singers'].apply(convert_to_words)\n",
    "new_df['tags'] += dataframe['directors'].apply(convert_to_words)\n",
    "new_df['tags'] += dataframe['lyricist'].apply(convert_to_words)\n",
    "new_df['tags'] += dataframe['genre'].apply(convert_to_words)\n",
    "new_df['tags'] += \" \" + dataframe['album']"
   ]
  },
  {
   "cell_type": "code",
   "execution_count": null,
   "id": "260eea1f-51a0-42ca-a4dd-eecdd5599242",
   "metadata": {},
   "outputs": [],
   "source": [
    "new_df.head().iloc[0].tags"
   ]
  },
  {
   "cell_type": "code",
   "execution_count": null,
   "id": "dfda056b-f4e8-457a-9561-b545bba8ce5f",
   "metadata": {},
   "outputs": [],
   "source": [
    "from sklearn.feature_extraction.text import CountVectorizer\n",
    "cv = CountVectorizer(max_features=5000,stop_words='english')"
   ]
  },
  {
   "cell_type": "code",
   "execution_count": null,
   "id": "3d2511b6-1543-4d8e-8915-bb8d168ae41c",
   "metadata": {},
   "outputs": [],
   "source": [
    "vector = cv.fit_transform(new_df['tags']).toarray()"
   ]
  },
  {
   "cell_type": "code",
   "execution_count": null,
   "id": "c9553863-8bfb-435c-a5d5-f069a5532d8f",
   "metadata": {},
   "outputs": [],
   "source": [
    "type(new_df['tags'])"
   ]
  },
  {
   "cell_type": "code",
   "execution_count": null,
   "id": "ee3bbe67-9edf-4300-b2bb-319a98993b1f",
   "metadata": {},
   "outputs": [],
   "source": [
    "vector.shape"
   ]
  },
  {
   "cell_type": "code",
   "execution_count": 194,
   "id": "06175393-cf9f-4286-b9cf-ef678c7dce2e",
   "metadata": {},
   "outputs": [],
   "source": [
    "from sklearn.metrics.pairwise import cosine_similarity\n",
    "similarity = cosine_similarity(vector)"
   ]
  },
  {
   "cell_type": "code",
   "execution_count": 208,
   "id": "e6fa743e-06ae-4e61-bbbe-99c8a92ecf81",
   "metadata": {},
   "outputs": [
    {
     "data": {
      "text/plain": [
       "(923, 923)"
      ]
     },
     "execution_count": 208,
     "metadata": {},
     "output_type": "execute_result"
    }
   ],
   "source": [
    "similarity.shape"
   ]
  },
  {
   "cell_type": "code",
   "execution_count": 209,
   "id": "2ac01f9b-cf07-41b2-a159-19c07b3f30da",
   "metadata": {},
   "outputs": [],
   "source": [
    "sorted_indices = np.array([np.argsort(-row)[1: 51] for row in similarity])\n",
    "np.save('similarity.npy', sorted_indices)"
   ]
  },
  {
   "cell_type": "code",
   "execution_count": null,
   "id": "12c1e122-ca9e-4647-9b98-2bd67bd8ef7d",
   "metadata": {},
   "outputs": [],
   "source": [
    "def recommend(song):\n",
    "    index = dataframe[dataframe['title'] == song].index[0]\n",
    "    similar = enumerate(similarity[index])\n",
    "    r_songs = sorted(similar, key = lambda x : -x[1])[1:51]\n",
    "    list_of_songs = []\n",
    "    for sng in r_songs:\n",
    "        list_of_songs.append(dataframe.iloc[sng[0]].to_dict())\n",
    "    return list_of_songs"
   ]
  },
  {
   "cell_type": "code",
   "execution_count": null,
   "id": "8f46e69b-eac1-4892-b237-47711e7a291d",
   "metadata": {},
   "outputs": [],
   "source": [
    "r = recommend(dataframe.iloc[0].title)"
   ]
  },
  {
   "cell_type": "code",
   "execution_count": null,
   "id": "e5653b6b-f12d-4bee-b93f-27f06a62e317",
   "metadata": {},
   "outputs": [],
   "source": [
    "[i['index'] for i in r][:50]"
   ]
  },
  {
   "cell_type": "code",
   "execution_count": null,
   "id": "1cca9d98-b3c6-4f49-9880-2e2f341056a7",
   "metadata": {},
   "outputs": [],
   "source": [
    "#for saving the database\n",
    "save_df = pd.DataFrame()\n",
    "save_df = dataframe[['title', 'download_link', 'poster', 'year']]"
   ]
  },
  {
   "cell_type": "code",
   "execution_count": null,
   "id": "458af948-9130-4eb2-a508-5d583e273453",
   "metadata": {},
   "outputs": [],
   "source": [
    "save_df.head()"
   ]
  },
  {
   "cell_type": "code",
   "execution_count": null,
   "id": "170a7893-05a1-4268-8664-d2bd9659f29f",
   "metadata": {},
   "outputs": [],
   "source": [
    "save_df.to_pickle('./songs.pkl')"
   ]
  },
  {
   "cell_type": "code",
   "execution_count": null,
   "id": "1c85916a-28f3-4302-a4e2-50c41115326a",
   "metadata": {},
   "outputs": [],
   "source": []
  }
 ],
 "metadata": {
  "kernelspec": {
   "display_name": "Python 3 (ipykernel)",
   "language": "python",
   "name": "python3"
  },
  "language_info": {
   "codemirror_mode": {
    "name": "ipython",
    "version": 3
   },
   "file_extension": ".py",
   "mimetype": "text/x-python",
   "name": "python",
   "nbconvert_exporter": "python",
   "pygments_lexer": "ipython3",
   "version": "3.11.7"
  }
 },
 "nbformat": 4,
 "nbformat_minor": 5
}
